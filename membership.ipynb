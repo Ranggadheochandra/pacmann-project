{
 "cells": [
  {
   "cell_type": "code",
   "execution_count": 1,
   "metadata": {},
   "outputs": [],
   "source": [
    "from tabulate import tabulate\n",
    "\n",
    "import math"
   ]
  },
  {
   "cell_type": "code",
   "execution_count": 16,
   "metadata": {},
   "outputs": [],
   "source": [
    "class CustomerMembership:\n",
    "    def __init__(self, username, monthly_expense, monthly_income, membership = None):\n",
    "        self.username = username\n",
    "        self.monthly_expense = monthly_expense\n",
    "        self.monthly_income = monthly_income\n",
    "        self.membership = membership\n",
    "        \n",
    "    def show_benefit(self):\n",
    "        benefit = [\n",
    "            [\"Platinum\", \"15%\", \"Benefit Gold + Silver + Cashback max. 30%\"],\n",
    "            [\"Gold\", \"10%\", \"Benefit Silver + Voucher Ojek Online\"],\n",
    "            [\"Silver\", \"8%\", \"Voucher Makanan\"],\n",
    "            ]\n",
    "\n",
    "        benefit_headers = [\"Membership\", \"Discount\", \"Another Benefit\"]\n",
    "\n",
    "        print('Paccommerce Membership Benefit')\n",
    "        print(tabulate(benefit,benefit_headers,tablefmt ='fancy_grid',stralign = 'center'))"
   ]
  },
  {
   "cell_type": "code",
   "execution_count": 17,
   "metadata": {},
   "outputs": [],
   "source": [
    "fathul = CustomerMembership(\"Fathul\", 3_000_000, 10_000_000)"
   ]
  },
  {
   "cell_type": "code",
   "execution_count": 18,
   "metadata": {},
   "outputs": [
    {
     "name": "stdout",
     "output_type": "stream",
     "text": [
      "Username: Fathul\n",
      "Monthly expense: 3000000\n",
      "Monthly Income: 10000000\n"
     ]
    }
   ],
   "source": [
    "print(f\"Username: {fathul.username}\")\n",
    "print(f\"Monthly expense: {fathul.monthly_expense}\")\n",
    "print(f\"Monthly Income: {fathul.monthly_income}\")"
   ]
  },
  {
   "cell_type": "code",
   "execution_count": 19,
   "metadata": {},
   "outputs": [
    {
     "name": "stdout",
     "output_type": "stream",
     "text": [
      "Paccommerce Membership Benefit\n",
      "╒══════════════╤════════════╤═══════════════════════════════════════════╕\n",
      "│  Membership  │  Discount  │              Another Benefit              │\n",
      "╞══════════════╪════════════╪═══════════════════════════════════════════╡\n",
      "│   Platinum   │    15%     │ Benefit Gold + Silver + Cashback max. 30% │\n",
      "├──────────────┼────────────┼───────────────────────────────────────────┤\n",
      "│     Gold     │    10%     │   Benefit Silver + Voucher Ojek Online    │\n",
      "├──────────────┼────────────┼───────────────────────────────────────────┤\n",
      "│    Silver    │     8%     │              Voucher Makanan              │\n",
      "╘══════════════╧════════════╧═══════════════════════════════════════════╛\n"
     ]
    }
   ],
   "source": [
    "fathul.show_benefit()"
   ]
  }
 ],
 "metadata": {
  "kernelspec": {
   "display_name": "base",
   "language": "python",
   "name": "python3"
  },
  "language_info": {
   "codemirror_mode": {
    "name": "ipython",
    "version": 3
   },
   "file_extension": ".py",
   "mimetype": "text/x-python",
   "name": "python",
   "nbconvert_exporter": "python",
   "pygments_lexer": "ipython3",
   "version": "3.12.4"
  }
 },
 "nbformat": 4,
 "nbformat_minor": 2
}
